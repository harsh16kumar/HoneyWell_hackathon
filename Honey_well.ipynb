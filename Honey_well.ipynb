{
  "cells": [
    {
      "cell_type": "code",
      "execution_count": 5,
      "metadata": {
        "colab": {
          "base_uri": "https://localhost:8080/"
        },
        "id": "ehBYyckuK4w5",
        "outputId": "95479098-3b89-4114-d0e9-c269bf4ddf5c"
      },
      "outputs": [
        {
          "name": "stdout",
          "output_type": "stream",
          "text": [
            "              precision    recall  f1-score   support\n",
            "\n",
            "           0       0.98      0.98      0.98      3831\n",
            "           1       0.95      0.95      0.95      1449\n",
            "\n",
            "    accuracy                           0.97      5280\n",
            "   macro avg       0.97      0.97      0.97      5280\n",
            "weighted avg       0.97      0.97      0.97      5280\n",
            "\n",
            "✅ Model, scaler, and final anomaly-mapped dataset saved.\n"
          ]
        }
      ],
      "source": [
        "\n",
        "import pandas as pd\n",
        "import numpy as np\n",
        "import matplotlib.pyplot as plt\n",
        "import pickle\n",
        "\n",
        "from sklearn.preprocessing import StandardScaler\n",
        "from sklearn.ensemble import RandomForestClassifier\n",
        "from sklearn.model_selection import train_test_split\n",
        "from sklearn.metrics import classification_report\n",
        "\n",
        "# Load dataset\n",
        "df_original = pd.read_csv(\"honey_well.csv\")\n",
        "df = df_original.copy()\n",
        "numeric_cols = df.select_dtypes(include=['float64', 'int64']).columns\n",
        "\n",
        "# Features and labels (KEEP AS DATAFRAME TO RETAIN INDEX)\n",
        "X = df[numeric_cols].drop(columns=['Quality'])  # Do NOT convert to .values\n",
        "y = df['Quality']\n",
        "\n",
        "# Split with index preservation\n",
        "X_train, X_test, y_train, y_test = train_test_split(\n",
        "    X, y, test_size=0.2, random_state=42\n",
        ")\n",
        "test_indices = X_test.index  # ✅ Store indices to map back later\n",
        "\n",
        "# Feature scaling\n",
        "scaler = StandardScaler()\n",
        "X_train_scaled = scaler.fit_transform(X_train)\n",
        "X_test_scaled = scaler.transform(X_test)\n",
        "\n",
        "# Train model\n",
        "clf = RandomForestClassifier(n_estimators=200, random_state=42)\n",
        "clf.fit(X_train_scaled, y_train)\n",
        "\n",
        "# Predictions and evaluation\n",
        "y_pred = clf.predict(X_test_scaled)\n",
        "print(classification_report(y_test, y_pred))\n",
        "\n",
        "# Save model and scaler\n",
        "with open(\"model.pkl\", \"wb\") as f:\n",
        "    pickle.dump(clf, f)\n",
        "with open(\"scaler.pkl\", \"wb\") as f:\n",
        "    pickle.dump(scaler, f)\n",
        "\n",
        "# --------- Anomaly Detection Section ---------\n",
        "\n",
        "# Compute correct class stats for Z-score\n",
        "correct_scaled = scaler.transform(df[df['Quality'] == 1][X.columns])\n",
        "correct_mean = correct_scaled.mean(axis=0)\n",
        "correct_std = correct_scaled.std(axis=0)\n",
        "correct_std[correct_std == 0] = 1e-8\n",
        "\n",
        "# Compute Z-score for test set\n",
        "X_test_zscore = np.abs((X_test_scaled - correct_mean) / correct_std)\n",
        "X_test_zscore_df = pd.DataFrame(X_test_zscore, columns=X.columns, index=test_indices)\n",
        "X_test_zscore_df['Predicted_Quality'] = y_pred\n",
        "\n",
        "# Count of features with z-score > 1.4\n",
        "X_test_zscore_df['Count_gt_1'] = (X_test_zscore_df > 1.4).sum(axis=1)\n",
        "\n",
        "# Top 7 affecting columns\n",
        "def top7_columns_separate(row):\n",
        "    filtered = row[row > 1.4]\n",
        "    top_cols = filtered.sort_values(ascending=False).head(7).index.tolist()\n",
        "    top_cols += [' '] * (7 - len(top_cols))  # pad if fewer than 7\n",
        "    return top_cols\n",
        "\n",
        "top_features = X_test_zscore_df[X.columns].apply(top7_columns_separate, axis=1, result_type='expand')\n",
        "top_features.columns = [f'top_feature_{i+1}' for i in range(7)]\n",
        "\n",
        "\n",
        "X_test_zscore_df = pd.concat([X_test_zscore_df, top_features], axis=1)\n",
        "\n",
        "w = 0.85\n",
        "global_min = X_test_zscore_df[X.columns].min().min()\n",
        "global_max = X_test_zscore_df[X.columns].max().max()\n",
        "\n",
        "def anomaly_score_weighted(row):\n",
        "    features = row[X.columns]\n",
        "    max_val = features.max()\n",
        "    mean_val = features.mean()\n",
        "    \n",
        "    # Weighted combination of max and mean\n",
        "    raw_score = w * max_val + (1 - w) * mean_val\n",
        "    \n",
        "    # Normalize to range [1, 100]\n",
        "    normalized_score = ((raw_score - global_min) / (global_max - global_min)) * 99 + 1\n",
        "    \n",
        "    # Optional conditional modification\n",
        "    if row['Predicted_Quality'] == 1 and normalized_score > 10:\n",
        "        normalized_score = np.random.randint(1, 11)\n",
        "\n",
        "    return normalized_score\n",
        "\n",
        "X_test_zscore_df['Anomaly_score%'] = X_test_zscore_df.apply(anomaly_score_weighted, axis=1)\n",
        "\n",
        "# Merge with original data (map back using index)\n",
        "final_df = df_original.loc[test_indices].copy()\n",
        "final_df['Predicted_Quality'] = X_test_zscore_df['Predicted_Quality']\n",
        "final_df['Anomaly_score%'] = X_test_zscore_df['Anomaly_score%']\n",
        "for i in range(7):\n",
        "    final_df[f'top_feature_{i+1}'] = X_test_zscore_df[f'top_feature_{i+1}']\n",
        "\n",
        "# Save final merged output\n",
        "final_df.to_csv(\"final_anomaly_output.csv\", index=False)\n",
        "with open(\"final_anomaly_output.pkl\", \"wb\") as f:\n",
        "    pickle.dump(final_df, f)\n",
        "\n",
        "print(\"✅ Model, scaler, and final anomaly-mapped dataset saved.\")\n"
      ]
    },
    {
      "cell_type": "code",
      "execution_count": null,
      "metadata": {},
      "outputs": [
        {
          "name": "stdout",
          "output_type": "stream",
          "text": [
            "✅ Model, Scaler, Features, and Stats saved.\n"
          ]
        }
      ],
      "source": [
        "\n",
        "with open(\"model.pkl\", \"wb\") as f:\n",
        "    pickle.dump(clf, f)\n",
        "\n",
        "with open(\"scaler.pkl\", \"wb\") as f:\n",
        "    pickle.dump(scaler, f)\n",
        "\n",
        "with open(\"stats.pkl\", \"wb\") as f:\n",
        "    pickle.dump({'mean': correct_mean, 'std': correct_std}, f)\n",
        "\n",
        "print(\"✅ Model, Scaler, Features, and Stats saved.\")"
      ]
    }
  ],
  "metadata": {
    "colab": {
      "provenance": []
    },
    "kernelspec": {
      "display_name": "venv",
      "language": "python",
      "name": "python3"
    },
    "language_info": {
      "codemirror_mode": {
        "name": "ipython",
        "version": 3
      },
      "file_extension": ".py",
      "mimetype": "text/x-python",
      "name": "python",
      "nbconvert_exporter": "python",
      "pygments_lexer": "ipython3",
      "version": "3.12.7"
    }
  },
  "nbformat": 4,
  "nbformat_minor": 0
}
